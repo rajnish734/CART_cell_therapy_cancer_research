{
 "cells": [
  {
   "cell_type": "markdown",
   "id": "ac2fe9e7-02cd-43b1-b731-b0565f985fd4",
   "metadata": {},
   "source": [
    "Implementing RFE on new dataset provided by Michelle. This notebook will include everything on the pipeline for day 0 including all the ML models on test data set and their performance evalation from John Hopkins. We decided that we will only do Random Forest for the first stage (or feature selection). "
   ]
  },
  {
   "cell_type": "code",
   "execution_count": 1,
   "id": "47ca102b-974c-4987-b342-d6e22d0181c3",
   "metadata": {},
   "outputs": [
    {
     "name": "stderr",
     "output_type": "stream",
     "text": [
      "C:\\Users\\rajnishk\\AppData\\Local\\Temp\\ipykernel_15060\\4126161524.py:3: DeprecationWarning: \n",
      "Pyarrow will become a required dependency of pandas in the next major release of pandas (pandas 3.0),\n",
      "(to allow more performant data types, such as the Arrow string type, and better interoperability with other libraries)\n",
      "but was not found to be installed on your system.\n",
      "If this would cause problems for you,\n",
      "please provide us feedback at https://github.com/pandas-dev/pandas/issues/54466\n",
      "        \n",
      "  import pandas as pd\n"
     ]
    }
   ],
   "source": [
    "%matplotlib inline\n",
    "import matplotlib.pyplot as plt\n",
    "import pandas as pd\n",
    "import numpy as np\n",
    "import openpyxl\n",
    "import pandas as pd\n",
    "from sklearn.model_selection import train_test_split, cross_val_score\n",
    "\n",
    "from sklearn.metrics import accuracy_score\n",
    "\n",
    "\n",
    "from pandas import Series\n",
    "from sklearn.ensemble import RandomForestClassifier\n",
    "from sklearn.feature_selection import RFECV"
   ]
  },
  {
   "cell_type": "code",
   "execution_count": null,
   "id": "f7bab9fb-9976-4479-bff9-8ea3b8c87481",
   "metadata": {},
   "outputs": [],
   "source": []
  },
  {
   "cell_type": "markdown",
   "id": "c3cc8266-51d7-41ec-b41d-dbe4d4732ca6",
   "metadata": {},
   "source": [
    "# Dataset Preparation"
   ]
  },
  {
   "cell_type": "code",
   "execution_count": 2,
   "id": "e10801a0-4b57-494e-94a1-1a9297bb901e",
   "metadata": {},
   "outputs": [],
   "source": [
    "df_CBC_umich = pd.read_excel(r'C:\\Users\\rajnishk\\Dropbox (University of Michigan)\\2023-09-25 CBC CART for Benjie and Rajnish from Mary\\data folder 4-4-2024\\cleaned_data_from_Rashmi\\Umich_data_with_demography.xlsx')\n",
    "df_CBC_JH = pd.read_excel(r'C:\\Users\\rajnishk\\Dropbox (University of Michigan)\\2023-09-25 CBC CART for Benjie and Rajnish from Mary\\data folder 4-4-2024\\Test_data_JHU\\04-11-2024 JHMI data with changed names from JHMI Compiled CBC, No ALL, CRP_LOD_0.xlsx')"
   ]
  },
  {
   "cell_type": "code",
   "execution_count": 3,
   "id": "c970118a-18ee-4a2b-8a02-0314a442736a",
   "metadata": {},
   "outputs": [],
   "source": [
    "# We will have to keep same columns in both Umich and JH dataset. \n",
    "# print(\"Columns in Umich dataset are %s\" %df_CBC_umich.columns)\n",
    "# print(\"Columns in JH Test dataset are %s\" %df_CBC_JH.columns)"
   ]
  },
  {
   "cell_type": "markdown",
   "id": "ec496815-83b9-4b76-b6ad-7aebfbeeb71f",
   "metadata": {},
   "source": [
    "Previously we had considered following columns for analysis: Index(['StudyID', 'WBC', 'NEU#', 'LYMP#', 'MON#', 'CRS_Grade', 'NT_Incidence',\r\n",
    "       'HGB', 'HCT', 'PLT', 'RBC', 'MCV', 'MCH', 'MCHC', 'RDW', 'MPV', 'Sex',\r\n",
    "       'Age', 'CRP', 'Ferritin'    dtype='objec. I will keep these same variables in the new dataset and drop all the other variables.t')"
   ]
  },
  {
   "cell_type": "code",
   "execution_count": 4,
   "id": "1eb230dd-72e6-4bc8-8071-4bc0feb3af4e",
   "metadata": {},
   "outputs": [],
   "source": [
    "# This is temporary and I will come back to it. \n",
    "columns_for_analysis = ['studyid', 'dpi', 'wbc_count', 'hgb', 'hct', 'plt', 'rbc_count', 'mcv',\n",
    "       'mch', 'mchc', 'rdw', 'mpv', 'absolute_neutrophil',\n",
    "       'absolute_lymphocyte', 'absolute_monocyte',   'crp', 'ferritin', \n",
    "        'clinician_defined_crs_grade',  \n",
    "        'NT_incidence', \n",
    "        'Age', 'Sex']"
   ]
  },
  {
   "cell_type": "code",
   "execution_count": 5,
   "id": "2ce14306-429e-4363-b281-6c5566710b9c",
   "metadata": {},
   "outputs": [],
   "source": [
    "df_umich = df_CBC_umich[columns_for_analysis] # This is the data frame that will go into analysis.\n",
    "df_JH = df_CBC_JH[columns_for_analysis] # This is the relevant columns from data set from John Hopkins\n"
   ]
  },
  {
   "cell_type": "code",
   "execution_count": 6,
   "id": "9d7a2246-4c4a-47d9-8f03-eb961b9b2320",
   "metadata": {},
   "outputs": [],
   "source": [
    "# df_umich"
   ]
  },
  {
   "cell_type": "code",
   "execution_count": 7,
   "id": "48ef5272-f041-478c-8067-af586fa4f4bd",
   "metadata": {},
   "outputs": [],
   "source": [
    "# df_umich.wbc_count[5]"
   ]
  },
  {
   "cell_type": "code",
   "execution_count": 8,
   "id": "395b9617-5ca3-4240-9739-6540742dd121",
   "metadata": {},
   "outputs": [
    {
     "name": "stderr",
     "output_type": "stream",
     "text": [
      "C:\\Users\\rajnishk\\AppData\\Local\\Temp\\ipykernel_15060\\3685044897.py:4: SettingWithCopyWarning: \n",
      "A value is trying to be set on a copy of a slice from a DataFrame.\n",
      "Try using .loc[row_indexer,col_indexer] = value instead\n",
      "\n",
      "See the caveats in the documentation: https://pandas.pydata.org/pandas-docs/stable/user_guide/indexing.html#returning-a-view-versus-a-copy\n",
      "  df_umich[col] = df_umich[col].str.strip()\n"
     ]
    }
   ],
   "source": [
    "# object_cols = df_umich.select_dtypes(include='object')\n",
    "for col in df_umich.select_dtypes(include='object'):\n",
    "    # print (col)\n",
    "    df_umich[col] = df_umich[col].str.strip()"
   ]
  },
  {
   "cell_type": "code",
   "execution_count": 9,
   "id": "ec2ca736-b9f3-437d-a18c-b95f5630a329",
   "metadata": {},
   "outputs": [],
   "source": [
    "# df_umich['hgb'] = df_umich['hgb'].str.strip()\n",
    "# df_umich.hgb[5]"
   ]
  },
  {
   "cell_type": "code",
   "execution_count": 10,
   "id": "95b2bd85-0cee-4489-a18b-8beafbb61fb9",
   "metadata": {},
   "outputs": [],
   "source": [
    "# df_umich.dtypes"
   ]
  },
  {
   "cell_type": "code",
   "execution_count": 11,
   "id": "456d6277-bc0e-4547-b480-93e87e396693",
   "metadata": {},
   "outputs": [],
   "source": [
    "# df_umich.columns"
   ]
  },
  {
   "cell_type": "code",
   "execution_count": 12,
   "id": "43ac8875-64c7-4cb9-a64a-636b57791c7b",
   "metadata": {},
   "outputs": [
    {
     "name": "stderr",
     "output_type": "stream",
     "text": [
      "C:\\Users\\rajnishk\\AppData\\Local\\Temp\\ipykernel_15060\\2396419904.py:7: SettingWithCopyWarning: \n",
      "A value is trying to be set on a copy of a slice from a DataFrame.\n",
      "Try using .loc[row_indexer,col_indexer] = value instead\n",
      "\n",
      "See the caveats in the documentation: https://pandas.pydata.org/pandas-docs/stable/user_guide/indexing.html#returning-a-view-versus-a-copy\n",
      "  df_umich[col] = pd.to_numeric(df_umich[col], errors='coerce')     # Convert all the string numbers to numeric values for ML\n"
     ]
    }
   ],
   "source": [
    "cols_to_convert = [\n",
    "    'wbc_count', 'hgb', 'hct', 'plt', 'rbc_count', 'mcv', 'mch', \n",
    "    'mchc', 'rdw', 'mpv', 'absolute_neutrophil', 'absolute_lymphocyte',\n",
    "    'absolute_monocyte', 'crp'\n",
    "]\n",
    "for col in cols_to_convert:\n",
    "    df_umich[col] = pd.to_numeric(df_umich[col], errors='coerce')     # Convert all the string numbers to numeric values for ML"
   ]
  },
  {
   "cell_type": "code",
   "execution_count": 13,
   "id": "f0871cce-3aa8-4184-b35c-35c58547bd1e",
   "metadata": {},
   "outputs": [],
   "source": [
    "# df_umich.hgb[5]"
   ]
  },
  {
   "cell_type": "code",
   "execution_count": 14,
   "id": "8df1e573-2667-4247-8214-83101aa237c4",
   "metadata": {},
   "outputs": [
    {
     "name": "stdout",
     "output_type": "stream",
     "text": [
      "no of measurements in df_umich_dpi_0 is 79\n",
      "no of measurements in df_JH_dpi_0 is 33\n"
     ]
    }
   ],
   "source": [
    "df_umich_dpi_0 = df_umich[df_umich.dpi == 0]  # Day 0 of relevant dataset from Umich. # This is a combination of training and validation.\n",
    "df_JH_dpi_0 = df_JH[df_JH.dpi==0] # Day 0 of relevant dataset from JH  # This is going to be our test dataset\n",
    "print(\"no of measurements in df_umich_dpi_0 is %s\" %np.shape(df_umich_dpi_0)[0])\n",
    "print(\"no of measurements in df_JH_dpi_0 is %s\" %np.shape(df_JH_dpi_0)[0])"
   ]
  },
  {
   "cell_type": "code",
   "execution_count": 15,
   "id": "303f0ac4-f112-470a-b58a-39856d358463",
   "metadata": {},
   "outputs": [],
   "source": [
    "# df_umich_dpi_0.isna().sum()"
   ]
  },
  {
   "cell_type": "markdown",
   "id": "b4ceba66-52c8-431b-8236-32dabf2862e6",
   "metadata": {},
   "source": [
    "Find out number of missing values. I will come to it later. "
   ]
  },
  {
   "cell_type": "code",
   "execution_count": 16,
   "id": "7c446b03-ea82-4d8b-b785-3fc3b9bd1ec3",
   "metadata": {},
   "outputs": [
    {
     "name": "stderr",
     "output_type": "stream",
     "text": [
      "C:\\Users\\rajnishk\\AppData\\Local\\Temp\\ipykernel_15060\\796743494.py:1: SettingWithCopyWarning: \n",
      "A value is trying to be set on a copy of a slice from a DataFrame\n",
      "\n",
      "See the caveats in the documentation: https://pandas.pydata.org/pandas-docs/stable/user_guide/indexing.html#returning-a-view-versus-a-copy\n",
      "  df_umich_dpi_0.dropna(subset=['crp','ferritin','absolute_neutrophil','absolute_lymphocyte','absolute_monocyte'], inplace=True)\n"
     ]
    },
    {
     "data": {
      "text/html": [
       "<div>\n",
       "<style scoped>\n",
       "    .dataframe tbody tr th:only-of-type {\n",
       "        vertical-align: middle;\n",
       "    }\n",
       "\n",
       "    .dataframe tbody tr th {\n",
       "        vertical-align: top;\n",
       "    }\n",
       "\n",
       "    .dataframe thead th {\n",
       "        text-align: right;\n",
       "    }\n",
       "</style>\n",
       "<table border=\"1\" class=\"dataframe\">\n",
       "  <thead>\n",
       "    <tr style=\"text-align: right;\">\n",
       "      <th></th>\n",
       "      <th>studyid</th>\n",
       "      <th>dpi</th>\n",
       "      <th>wbc_count</th>\n",
       "      <th>hgb</th>\n",
       "      <th>hct</th>\n",
       "      <th>plt</th>\n",
       "      <th>rbc_count</th>\n",
       "      <th>mcv</th>\n",
       "      <th>mch</th>\n",
       "      <th>mchc</th>\n",
       "      <th>...</th>\n",
       "      <th>mpv</th>\n",
       "      <th>absolute_neutrophil</th>\n",
       "      <th>absolute_lymphocyte</th>\n",
       "      <th>absolute_monocyte</th>\n",
       "      <th>crp</th>\n",
       "      <th>ferritin</th>\n",
       "      <th>clinician_defined_crs_grade</th>\n",
       "      <th>NT_incidence</th>\n",
       "      <th>Age</th>\n",
       "      <th>Sex</th>\n",
       "    </tr>\n",
       "  </thead>\n",
       "  <tbody>\n",
       "    <tr>\n",
       "      <th>5</th>\n",
       "      <td>LTFU2</td>\n",
       "      <td>0</td>\n",
       "      <td>2.8</td>\n",
       "      <td>9.3</td>\n",
       "      <td>28.6</td>\n",
       "      <td>247.0</td>\n",
       "      <td>3.01</td>\n",
       "      <td>95.0</td>\n",
       "      <td>30.9</td>\n",
       "      <td>32.5</td>\n",
       "      <td>...</td>\n",
       "      <td>9.5</td>\n",
       "      <td>2.1</td>\n",
       "      <td>0.1</td>\n",
       "      <td>0.4</td>\n",
       "      <td>0.6</td>\n",
       "      <td>1273.6</td>\n",
       "      <td>0.0</td>\n",
       "      <td>0</td>\n",
       "      <td>73</td>\n",
       "      <td>Male</td>\n",
       "    </tr>\n",
       "    <tr>\n",
       "      <th>20</th>\n",
       "      <td>LTFU3</td>\n",
       "      <td>0</td>\n",
       "      <td>2.8</td>\n",
       "      <td>12.7</td>\n",
       "      <td>38.1</td>\n",
       "      <td>204.0</td>\n",
       "      <td>4.21</td>\n",
       "      <td>90.5</td>\n",
       "      <td>30.2</td>\n",
       "      <td>33.3</td>\n",
       "      <td>...</td>\n",
       "      <td>9.0</td>\n",
       "      <td>2.6</td>\n",
       "      <td>0.1</td>\n",
       "      <td>0.0</td>\n",
       "      <td>4.2</td>\n",
       "      <td>211.9</td>\n",
       "      <td>0.0</td>\n",
       "      <td>0</td>\n",
       "      <td>50</td>\n",
       "      <td>Male</td>\n",
       "    </tr>\n",
       "    <tr>\n",
       "      <th>74</th>\n",
       "      <td>LTFU5</td>\n",
       "      <td>0</td>\n",
       "      <td>3.7</td>\n",
       "      <td>12.8</td>\n",
       "      <td>37.8</td>\n",
       "      <td>154.0</td>\n",
       "      <td>4.38</td>\n",
       "      <td>86.3</td>\n",
       "      <td>29.2</td>\n",
       "      <td>33.9</td>\n",
       "      <td>...</td>\n",
       "      <td>9.8</td>\n",
       "      <td>2.7</td>\n",
       "      <td>0.2</td>\n",
       "      <td>0.3</td>\n",
       "      <td>0.8</td>\n",
       "      <td>126.4</td>\n",
       "      <td>0.0</td>\n",
       "      <td>1</td>\n",
       "      <td>42</td>\n",
       "      <td>Male</td>\n",
       "    </tr>\n",
       "    <tr>\n",
       "      <th>92</th>\n",
       "      <td>LTFU6</td>\n",
       "      <td>0</td>\n",
       "      <td>0.9</td>\n",
       "      <td>8.5</td>\n",
       "      <td>26.8</td>\n",
       "      <td>127.0</td>\n",
       "      <td>2.81</td>\n",
       "      <td>95.4</td>\n",
       "      <td>30.2</td>\n",
       "      <td>31.7</td>\n",
       "      <td>...</td>\n",
       "      <td>10.9</td>\n",
       "      <td>0.7</td>\n",
       "      <td>0.0</td>\n",
       "      <td>0.0</td>\n",
       "      <td>2.5</td>\n",
       "      <td>1282.7</td>\n",
       "      <td>0.0</td>\n",
       "      <td>1</td>\n",
       "      <td>63</td>\n",
       "      <td>Male</td>\n",
       "    </tr>\n",
       "    <tr>\n",
       "      <th>139</th>\n",
       "      <td>LTFU8</td>\n",
       "      <td>0</td>\n",
       "      <td>2.4</td>\n",
       "      <td>14.7</td>\n",
       "      <td>44.0</td>\n",
       "      <td>103.0</td>\n",
       "      <td>4.98</td>\n",
       "      <td>88.4</td>\n",
       "      <td>29.5</td>\n",
       "      <td>33.4</td>\n",
       "      <td>...</td>\n",
       "      <td>11.3</td>\n",
       "      <td>1.7</td>\n",
       "      <td>0.3</td>\n",
       "      <td>0.3</td>\n",
       "      <td>0.5</td>\n",
       "      <td>290.2</td>\n",
       "      <td>0.0</td>\n",
       "      <td>0</td>\n",
       "      <td>64</td>\n",
       "      <td>Male</td>\n",
       "    </tr>\n",
       "    <tr>\n",
       "      <th>...</th>\n",
       "      <td>...</td>\n",
       "      <td>...</td>\n",
       "      <td>...</td>\n",
       "      <td>...</td>\n",
       "      <td>...</td>\n",
       "      <td>...</td>\n",
       "      <td>...</td>\n",
       "      <td>...</td>\n",
       "      <td>...</td>\n",
       "      <td>...</td>\n",
       "      <td>...</td>\n",
       "      <td>...</td>\n",
       "      <td>...</td>\n",
       "      <td>...</td>\n",
       "      <td>...</td>\n",
       "      <td>...</td>\n",
       "      <td>...</td>\n",
       "      <td>...</td>\n",
       "      <td>...</td>\n",
       "      <td>...</td>\n",
       "      <td>...</td>\n",
       "    </tr>\n",
       "    <tr>\n",
       "      <th>1523</th>\n",
       "      <td>SC73</td>\n",
       "      <td>0</td>\n",
       "      <td>2.4</td>\n",
       "      <td>11.3</td>\n",
       "      <td>34.1</td>\n",
       "      <td>146.0</td>\n",
       "      <td>3.66</td>\n",
       "      <td>93.2</td>\n",
       "      <td>30.9</td>\n",
       "      <td>33.1</td>\n",
       "      <td>...</td>\n",
       "      <td>9.7</td>\n",
       "      <td>0.9</td>\n",
       "      <td>0.0</td>\n",
       "      <td>0.1</td>\n",
       "      <td>2.8</td>\n",
       "      <td>157.0</td>\n",
       "      <td>2.0</td>\n",
       "      <td>0</td>\n",
       "      <td>63</td>\n",
       "      <td>Female</td>\n",
       "    </tr>\n",
       "    <tr>\n",
       "      <th>1536</th>\n",
       "      <td>SC74</td>\n",
       "      <td>0</td>\n",
       "      <td>4.1</td>\n",
       "      <td>12.0</td>\n",
       "      <td>35.9</td>\n",
       "      <td>307.0</td>\n",
       "      <td>3.54</td>\n",
       "      <td>101.4</td>\n",
       "      <td>33.9</td>\n",
       "      <td>33.4</td>\n",
       "      <td>...</td>\n",
       "      <td>9.6</td>\n",
       "      <td>3.5</td>\n",
       "      <td>0.1</td>\n",
       "      <td>0.2</td>\n",
       "      <td>1.3</td>\n",
       "      <td>195.7</td>\n",
       "      <td>0.0</td>\n",
       "      <td>1</td>\n",
       "      <td>76</td>\n",
       "      <td>Male</td>\n",
       "    </tr>\n",
       "    <tr>\n",
       "      <th>1556</th>\n",
       "      <td>SC75</td>\n",
       "      <td>0</td>\n",
       "      <td>1.4</td>\n",
       "      <td>9.8</td>\n",
       "      <td>27.7</td>\n",
       "      <td>152.0</td>\n",
       "      <td>3.00</td>\n",
       "      <td>92.3</td>\n",
       "      <td>32.7</td>\n",
       "      <td>35.4</td>\n",
       "      <td>...</td>\n",
       "      <td>9.2</td>\n",
       "      <td>1.3</td>\n",
       "      <td>0.0</td>\n",
       "      <td>0.0</td>\n",
       "      <td>1.2</td>\n",
       "      <td>1200.0</td>\n",
       "      <td>0.0</td>\n",
       "      <td>1</td>\n",
       "      <td>60</td>\n",
       "      <td>Male</td>\n",
       "    </tr>\n",
       "    <tr>\n",
       "      <th>1573</th>\n",
       "      <td>SC76</td>\n",
       "      <td>0</td>\n",
       "      <td>3.5</td>\n",
       "      <td>14.2</td>\n",
       "      <td>42.0</td>\n",
       "      <td>147.0</td>\n",
       "      <td>4.70</td>\n",
       "      <td>89.4</td>\n",
       "      <td>30.2</td>\n",
       "      <td>33.8</td>\n",
       "      <td>...</td>\n",
       "      <td>8.9</td>\n",
       "      <td>3.1</td>\n",
       "      <td>0.0</td>\n",
       "      <td>0.1</td>\n",
       "      <td>0.5</td>\n",
       "      <td>147.5</td>\n",
       "      <td>0.0</td>\n",
       "      <td>0</td>\n",
       "      <td>62</td>\n",
       "      <td>Male</td>\n",
       "    </tr>\n",
       "    <tr>\n",
       "      <th>1587</th>\n",
       "      <td>SC78</td>\n",
       "      <td>0</td>\n",
       "      <td>3.1</td>\n",
       "      <td>10.5</td>\n",
       "      <td>32.4</td>\n",
       "      <td>189.0</td>\n",
       "      <td>3.71</td>\n",
       "      <td>87.3</td>\n",
       "      <td>28.3</td>\n",
       "      <td>32.4</td>\n",
       "      <td>...</td>\n",
       "      <td>9.0</td>\n",
       "      <td>2.8</td>\n",
       "      <td>0.1</td>\n",
       "      <td>0.1</td>\n",
       "      <td>1.6</td>\n",
       "      <td>721.9</td>\n",
       "      <td>0.0</td>\n",
       "      <td>1</td>\n",
       "      <td>76</td>\n",
       "      <td>Male</td>\n",
       "    </tr>\n",
       "  </tbody>\n",
       "</table>\n",
       "<p>69 rows × 21 columns</p>\n",
       "</div>"
      ],
      "text/plain": [
       "     studyid  dpi  wbc_count   hgb   hct    plt  rbc_count    mcv   mch  mchc  \\\n",
       "5      LTFU2    0        2.8   9.3  28.6  247.0       3.01   95.0  30.9  32.5   \n",
       "20     LTFU3    0        2.8  12.7  38.1  204.0       4.21   90.5  30.2  33.3   \n",
       "74     LTFU5    0        3.7  12.8  37.8  154.0       4.38   86.3  29.2  33.9   \n",
       "92     LTFU6    0        0.9   8.5  26.8  127.0       2.81   95.4  30.2  31.7   \n",
       "139    LTFU8    0        2.4  14.7  44.0  103.0       4.98   88.4  29.5  33.4   \n",
       "...      ...  ...        ...   ...   ...    ...        ...    ...   ...   ...   \n",
       "1523    SC73    0        2.4  11.3  34.1  146.0       3.66   93.2  30.9  33.1   \n",
       "1536    SC74    0        4.1  12.0  35.9  307.0       3.54  101.4  33.9  33.4   \n",
       "1556    SC75    0        1.4   9.8  27.7  152.0       3.00   92.3  32.7  35.4   \n",
       "1573    SC76    0        3.5  14.2  42.0  147.0       4.70   89.4  30.2  33.8   \n",
       "1587    SC78    0        3.1  10.5  32.4  189.0       3.71   87.3  28.3  32.4   \n",
       "\n",
       "      ...   mpv  absolute_neutrophil  absolute_lymphocyte  absolute_monocyte  \\\n",
       "5     ...   9.5                  2.1                  0.1                0.4   \n",
       "20    ...   9.0                  2.6                  0.1                0.0   \n",
       "74    ...   9.8                  2.7                  0.2                0.3   \n",
       "92    ...  10.9                  0.7                  0.0                0.0   \n",
       "139   ...  11.3                  1.7                  0.3                0.3   \n",
       "...   ...   ...                  ...                  ...                ...   \n",
       "1523  ...   9.7                  0.9                  0.0                0.1   \n",
       "1536  ...   9.6                  3.5                  0.1                0.2   \n",
       "1556  ...   9.2                  1.3                  0.0                0.0   \n",
       "1573  ...   8.9                  3.1                  0.0                0.1   \n",
       "1587  ...   9.0                  2.8                  0.1                0.1   \n",
       "\n",
       "      crp  ferritin  clinician_defined_crs_grade  NT_incidence  Age     Sex  \n",
       "5     0.6    1273.6                          0.0             0   73    Male  \n",
       "20    4.2     211.9                          0.0             0   50    Male  \n",
       "74    0.8     126.4                          0.0             1   42    Male  \n",
       "92    2.5    1282.7                          0.0             1   63    Male  \n",
       "139   0.5     290.2                          0.0             0   64    Male  \n",
       "...   ...       ...                          ...           ...  ...     ...  \n",
       "1523  2.8     157.0                          2.0             0   63  Female  \n",
       "1536  1.3     195.7                          0.0             1   76    Male  \n",
       "1556  1.2    1200.0                          0.0             1   60    Male  \n",
       "1573  0.5     147.5                          0.0             0   62    Male  \n",
       "1587  1.6     721.9                          0.0             1   76    Male  \n",
       "\n",
       "[69 rows x 21 columns]"
      ]
     },
     "execution_count": 16,
     "metadata": {},
     "output_type": "execute_result"
    }
   ],
   "source": [
    "df_umich_dpi_0.dropna(subset=['crp','ferritin','absolute_neutrophil','absolute_lymphocyte','absolute_monocyte'], inplace=True)\n",
    "df_umich_dpi_0"
   ]
  },
  {
   "cell_type": "code",
   "execution_count": null,
   "id": "45e66d7b-6e91-4013-a169-096d6449493c",
   "metadata": {},
   "outputs": [],
   "source": []
  },
  {
   "cell_type": "markdown",
   "id": "6d2089b5-03d6-4421-b1fb-fa539f673aed",
   "metadata": {},
   "source": [
    "\n",
    "dtype: objectct')\n"
   ]
  },
  {
   "cell_type": "code",
   "execution_count": null,
   "id": "87cd6447-b75a-49c3-bfd2-06f28349e373",
   "metadata": {},
   "outputs": [],
   "source": []
  },
  {
   "cell_type": "code",
   "execution_count": null,
   "id": "c89f7796-eb79-41c3-9e85-d24eed94b696",
   "metadata": {},
   "outputs": [],
   "source": []
  },
  {
   "cell_type": "code",
   "execution_count": null,
   "id": "7e73b4b6-2a09-4e43-8998-ee78d033c14b",
   "metadata": {},
   "outputs": [],
   "source": []
  },
  {
   "cell_type": "code",
   "execution_count": null,
   "id": "de30dc22-1610-4220-957c-b55fc14b3e67",
   "metadata": {},
   "outputs": [],
   "source": []
  },
  {
   "cell_type": "markdown",
   "id": "1b53c58d-4570-4138-ae38-8cb05dd31237",
   "metadata": {},
   "source": [
    "There are a few missing values. Let me fill them with the mean value for each columns for starter. I might end up doing analysis where I would just drop them. "
   ]
  },
  {
   "cell_type": "code",
   "execution_count": null,
   "id": "8fd13c96-c3e1-4f7e-9a58-ab99216b822c",
   "metadata": {},
   "outputs": [],
   "source": []
  },
  {
   "cell_type": "code",
   "execution_count": 17,
   "id": "69fcd4a8-836c-4f9d-b554-e1a4ff5305cd",
   "metadata": {},
   "outputs": [],
   "source": [
    "# for column in df_umich_dpi_0.select_dtypes(include=['float64', 'int64']).columns:\n",
    "#     df_umich_dpi_0[column].fillna(df_umich_dpi_0[column].mean(), inplace=True)"
   ]
  },
  {
   "cell_type": "code",
   "execution_count": 18,
   "id": "8671346d-e156-4e27-8e5d-20fb495155ed",
   "metadata": {},
   "outputs": [],
   "source": [
    "# df_umich_dpi_0.isna().sum()"
   ]
  },
  {
   "cell_type": "code",
   "execution_count": null,
   "id": "4ce998fb-594a-413b-8250-e8d388c6dd25",
   "metadata": {},
   "outputs": [],
   "source": [
    "\n"
   ]
  },
  {
   "cell_type": "code",
   "execution_count": null,
   "id": "1e5ee2bb-b48e-4bd7-a753-6e7e6c971933",
   "metadata": {},
   "outputs": [],
   "source": []
  },
  {
   "cell_type": "code",
   "execution_count": 19,
   "id": "7b1513b6-696f-4a78-add8-d8b5a4ed2258",
   "metadata": {},
   "outputs": [],
   "source": [
    "# df_JH_dpi_0.dropna(subset=['crp','ferritin'], inplace=True)\n",
    "# df_JH_dpi_0.isna().sum()"
   ]
  },
  {
   "cell_type": "code",
   "execution_count": null,
   "id": "3e2954bc-8e30-4611-9fa8-f18676098297",
   "metadata": {},
   "outputs": [],
   "source": []
  },
  {
   "cell_type": "code",
   "execution_count": null,
   "id": "b90274a9-7265-473e-a1ca-fbd0d0f6e4b9",
   "metadata": {},
   "outputs": [],
   "source": [
    "\n"
   ]
  },
  {
   "cell_type": "code",
   "execution_count": null,
   "id": "86c104c4-2a43-44ca-abeb-642c46b32823",
   "metadata": {},
   "outputs": [],
   "source": []
  },
  {
   "cell_type": "code",
   "execution_count": null,
   "id": "fa07397b-e5d7-4b05-8401-033f74cc3622",
   "metadata": {},
   "outputs": [],
   "source": []
  },
  {
   "cell_type": "code",
   "execution_count": null,
   "id": "97d12304-4aa9-40ab-a89a-18d17e435367",
   "metadata": {},
   "outputs": [],
   "source": []
  },
  {
   "cell_type": "code",
   "execution_count": null,
   "id": "9c0257ab-10ac-437a-9a0f-71a0c99ee881",
   "metadata": {},
   "outputs": [],
   "source": []
  },
  {
   "cell_type": "code",
   "execution_count": null,
   "id": "6a237829-0aaa-4736-9276-dd4dffdc3a09",
   "metadata": {},
   "outputs": [],
   "source": []
  },
  {
   "cell_type": "code",
   "execution_count": null,
   "id": "9e6aa096-34cb-470b-8757-1f3d2abc5ff5",
   "metadata": {},
   "outputs": [],
   "source": []
  },
  {
   "cell_type": "markdown",
   "id": "204420a8-a8ba-4d45-8183-f2f8a2465231",
   "metadata": {},
   "source": [
    "Useful link for code on implementation of RFE using random forest\n",
    "https://stackoverflow.com/questions/24123498/recursive-feature-elimination-on-random-forest-using-scikit-learn\n",
    "Following example has been copied from this link. "
   ]
  },
  {
   "cell_type": "code",
   "execution_count": 2,
   "id": "0b1c76fd-e7f9-4247-8746-6dcb4c35305c",
   "metadata": {},
   "outputs": [
    {
     "name": "stderr",
     "output_type": "stream",
     "text": [
      "C:\\Users\\rajnishk\\AppData\\Local\\Temp\\ipykernel_23772\\2214112821.py:2: DeprecationWarning: \n",
      "Pyarrow will become a required dependency of pandas in the next major release of pandas (pandas 3.0),\n",
      "(to allow more performant data types, such as the Arrow string type, and better interoperability with other libraries)\n",
      "but was not found to be installed on your system.\n",
      "If this would cause problems for you,\n",
      "please provide us feedback at https://github.com/pandas-dev/pandas/issues/54466\n",
      "        \n",
      "  import pandas as pd\n"
     ]
    },
    {
     "name": "stdout",
     "output_type": "stream",
     "text": [
      "Fitting estimator with 4 features.\n",
      "Fitting estimator with 3 features.\n",
      "Fitting estimator with 2 features.\n",
      "Fitting estimator with 4 features.\n",
      "Fitting estimator with 3 features.\n",
      "Fitting estimator with 2 features.\n",
      "Fitting estimator with 4 features.\n"
     ]
    }
   ],
   "source": [
    "from sklearn import datasets\n",
    "import pandas as pd\n",
    "from pandas import Series\n",
    "from sklearn.ensemble import RandomForestClassifier\n",
    "from sklearn.feature_selection import RFECV\n",
    "\n",
    "class RandomForestClassifierWithCoef(RandomForestClassifier):\n",
    "    def fit(self, *args, **kwargs):\n",
    "        super(RandomForestClassifierWithCoef, self).fit(*args, **kwargs)\n",
    "        self.coef_ = self.feature_importances_\n",
    "\n",
    "iris = datasets.load_iris()\n",
    "x=pd.DataFrame(iris.data, columns=['var1','var2','var3', 'var4'])\n",
    "y=(pd.Series(iris.target, name='target')==2).astype(int)\n",
    "rf = RandomForestClassifierWithCoef(n_estimators=500, min_samples_leaf=5, n_jobs=-1)\n",
    "rfecv = RFECV(estimator=rf, step=1, cv=2, scoring='roc_auc', verbose=2)\n",
    "selector=rfecv.fit(x, y)"
   ]
  },
  {
   "cell_type": "code",
   "execution_count": 9,
   "id": "ddf4682b-0d18-4b2a-ac48-3647446808ee",
   "metadata": {},
   "outputs": [
    {
     "data": {
      "text/plain": [
       "array([ True, False,  True,  True])"
      ]
     },
     "execution_count": 9,
     "metadata": {},
     "output_type": "execute_result"
    }
   ],
   "source": [
    "selector.support_"
   ]
  },
  {
   "cell_type": "code",
   "execution_count": 1,
   "id": "f95ea35e-10b9-4bc8-a121-9cf3fd5658dd",
   "metadata": {},
   "outputs": [
    {
     "name": "stdout",
     "output_type": "stream",
     "text": [
      "Accuracy: 100.00%\n",
      "Classification Report:\n",
      "               precision    recall  f1-score   support\n",
      "\n",
      "      setosa       1.00      1.00      1.00        19\n",
      "  versicolor       1.00      1.00      1.00        13\n",
      "   virginica       1.00      1.00      1.00        13\n",
      "\n",
      "    accuracy                           1.00        45\n",
      "   macro avg       1.00      1.00      1.00        45\n",
      "weighted avg       1.00      1.00      1.00        45\n",
      "\n"
     ]
    }
   ],
   "source": [
    "# Import necessary libraries\n",
    "from sklearn.datasets import load_iris\n",
    "from sklearn.model_selection import train_test_split\n",
    "from sklearn.ensemble import RandomForestClassifier\n",
    "from sklearn.metrics import accuracy_score, classification_report\n",
    "\n",
    "# Load the Iris dataset\n",
    "data = load_iris()\n",
    "X = data.data\n",
    "y = data.target\n",
    "\n",
    "# Split the dataset into training and testing sets\n",
    "X_train, X_test, y_train, y_test = train_test_split(X, y, test_size=0.3, random_state=42)\n",
    "\n",
    "# Initialize the RandomForestClassifier\n",
    "rfc = RandomForestClassifier(n_estimators=100, random_state=42)\n",
    "\n",
    "# Fit the model on the training data\n",
    "rfc.fit(X_train, y_train)\n",
    "\n",
    "# Predict on the test data\n",
    "y_pred = rfc.predict(X_test)\n",
    "\n",
    "# Evaluate the model\n",
    "accuracy = accuracy_score(y_test, y_pred)\n",
    "print(f\"Accuracy: {accuracy * 100:.2f}%\")\n",
    "\n",
    "# Detailed classification report\n",
    "report = classification_report(y_test, y_pred, target_names=data.target_names)\n",
    "print(\"Classification Report:\\n\", report)"
   ]
  },
  {
   "cell_type": "code",
   "execution_count": null,
   "id": "7a8691f4-a293-4182-afa5-07ec80556811",
   "metadata": {},
   "outputs": [],
   "source": []
  }
 ],
 "metadata": {
  "kernelspec": {
   "display_name": "Python 3 (ipykernel)",
   "language": "python",
   "name": "python3"
  },
  "language_info": {
   "codemirror_mode": {
    "name": "ipython",
    "version": 3
   },
   "file_extension": ".py",
   "mimetype": "text/x-python",
   "name": "python",
   "nbconvert_exporter": "python",
   "pygments_lexer": "ipython3",
   "version": "3.11.7"
  }
 },
 "nbformat": 4,
 "nbformat_minor": 5
}
