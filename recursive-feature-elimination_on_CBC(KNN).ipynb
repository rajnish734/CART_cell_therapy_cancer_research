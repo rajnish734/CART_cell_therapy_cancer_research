{
 "cells": [
  {
   "cell_type": "markdown",
   "id": "973531c2-12ad-4c27-b291-4d0c9ec7a6d5",
   "metadata": {},
   "source": [
    "# Recursive Feature Elimination (KNN in pipeline)"
   ]
  },
  {
   "cell_type": "code",
   "execution_count": 1,
   "id": "e81eb75c-73af-465f-8b5f-bf02783f1369",
   "metadata": {},
   "outputs": [],
   "source": [
    "# Original source: \n",
    "# https://github.com/rasbt/stat451-machine-learning-fs21/blob/main/13-feature-selection/04_recursive-feature-elimination.ipynb"
   ]
  },
  {
   "cell_type": "markdown",
   "id": "c9c042e5-858d-4bfa-9438-fc199bc1f328",
   "metadata": {
    "tags": []
   },
   "source": [
    "Implementation of RFE for feature implementation along with classification in the same pipeline. This code used KNN in the pipeline for second stage as well as testing."
   ]
  },
  {
   "cell_type": "code",
   "execution_count": 2,
   "id": "b0b96ec9-9b30-40f2-8015-651ad6ed9be1",
   "metadata": {},
   "outputs": [
    {
     "name": "stderr",
     "output_type": "stream",
     "text": [
      "C:\\Users\\rajnishk\\AppData\\Local\\Temp\\ipykernel_25224\\100770686.py:3: DeprecationWarning: \n",
      "Pyarrow will become a required dependency of pandas in the next major release of pandas (pandas 3.0),\n",
      "(to allow more performant data types, such as the Arrow string type, and better interoperability with other libraries)\n",
      "but was not found to be installed on your system.\n",
      "If this would cause problems for you,\n",
      "please provide us feedback at https://github.com/pandas-dev/pandas/issues/54466\n",
      "        \n",
      "  import pandas as pd\n"
     ]
    }
   ],
   "source": [
    "%matplotlib inline\n",
    "import matplotlib.pyplot as plt\n",
    "import pandas as pd\n",
    "import numpy as np"
   ]
  },
  {
   "cell_type": "markdown",
   "id": "0371b217-fe24-4340-b1e4-28586fac28fb",
   "metadata": {},
   "source": [
    "## Dataset Preparation"
   ]
  },
  {
   "cell_type": "code",
   "execution_count": 3,
   "id": "9ea4ba4e-e5a5-454a-b98e-15d9d510a29e",
   "metadata": {},
   "outputs": [
    {
     "data": {
      "text/plain": [
       "Index(['StudyID', 'DPI', 'WBC', 'NEU%', 'NEU#', 'LYMP%', 'LYMP#', 'MON%',\n",
       "       'MON#', 'CRS_Grade', 'CRS_Incidence', 'Max_CRS', 'DP_CRS_Onset',\n",
       "       'During Chemo?', 'After Chemo', 'Placeholder_DPI', 'NT_Incidence',\n",
       "       'Max_NT', 'NT_Grade', 'DP_NT_Onset', 'HGB', 'HCT', 'PLT', 'RBC', 'MCV',\n",
       "       'MCH', 'MCHC', 'RDW', 'MPV', 'Sex', 'Age', 'CRP', 'Ferritin'],\n",
       "      dtype='object')"
      ]
     },
     "execution_count": 3,
     "metadata": {},
     "output_type": "execute_result"
    }
   ],
   "source": [
    "df_CBC_umich = pd.read_csv(r'C:\\Users\\rajnishk\\Dropbox (University of Michigan)\\2023-09-25 CBC CART for Benjie and Rajnish from Mary\\Rajnish Folder\\Only_UM_LTFU_CBC_Data_with_matched_CRP_Ferritin_LOD_0.csv')\n",
    "# print(\"shape of the data frame is %s\" %(np.shape(df_CBC_umich)))\n",
    "df_CBC_umich.columns"
   ]
  },
  {
   "cell_type": "code",
   "execution_count": 4,
   "id": "93579a8e-4592-4006-b8cc-920aa4420c32",
   "metadata": {},
   "outputs": [
    {
     "name": "stderr",
     "output_type": "stream",
     "text": [
      "C:\\Users\\rajnishk\\AppData\\Local\\Temp\\ipykernel_25224\\2952841398.py:6: FutureWarning: Downcasting behavior in `replace` is deprecated and will be removed in a future version. To retain the old behavior, explicitly call `result.infer_objects(copy=False)`. To opt-in to the future behavior, set `pd.set_option('future.no_silent_downcasting', True)`\n",
      "  df_CBC_umich['Sex'] = df_CBC_umich['Sex'].replace(sex_mapping)\n"
     ]
    }
   ],
   "source": [
    "df_CBC_umich[\"NT_Incidence\"] = df_CBC_umich[\"NT_Incidence\"].astype(int)\n",
    "# df_CBC_umich[\"Sex\"] = df_CBC_umich[\"Sex\"].astype(int)\n",
    "# Map 'Male' to 0 and 'Female' to 1\n",
    "sex_mapping = {'Male': 0, 'Female': 1}\n",
    "\n",
    "df_CBC_umich['Sex'] = df_CBC_umich['Sex'].replace(sex_mapping)"
   ]
  },
  {
   "cell_type": "markdown",
   "id": "4a0aeb84-0c7c-4892-a3c4-9868c3fe7f24",
   "metadata": {},
   "source": [
    "Drop all the columns that are not to be used. \n",
    "df.drop(['C', 'D'], axis=1)"
   ]
  },
  {
   "cell_type": "code",
   "execution_count": 5,
   "id": "c511d982-6c5d-4c15-96ca-f18f47b8a1cb",
   "metadata": {},
   "outputs": [],
   "source": [
    "CBC_DPI_0_only = df_CBC_umich[df_CBC_umich.DPI==0]\n",
    "# CBC_DPI_0_only"
   ]
  },
  {
   "cell_type": "code",
   "execution_count": null,
   "id": "c839429c-4c16-4827-905b-0ae0be128c07",
   "metadata": {},
   "outputs": [],
   "source": []
  },
  {
   "cell_type": "code",
   "execution_count": 6,
   "id": "0a41a574-c8f5-45f5-9d49-5b90607678c7",
   "metadata": {},
   "outputs": [],
   "source": [
    "df_CBC_Umich_DPI_0_only = CBC_DPI_0_only.drop(columns=['CRS_Incidence','DPI','Max_CRS','NEU%','LYMP%','MON%' , 'DP_CRS_Onset','Max_NT', 'NT_Grade', 'Placeholder_DPI', 'During Chemo?', 'After Chemo', 'DP_NT_Onset'])\n",
    "# df_CBC_Umich_DPI_0_only "
   ]
  },
  {
   "cell_type": "code",
   "execution_count": 7,
   "id": "0c6ead46-2db0-42b6-9194-606975d11a31",
   "metadata": {},
   "outputs": [],
   "source": [
    "# np.sum(df_CBC_Umich_DPI_0_only.isna())\n",
    "# np.shape(df_CBC_Umich_DPI_0_only)"
   ]
  },
  {
   "cell_type": "code",
   "execution_count": 8,
   "id": "8ed78eeb-86a2-4da7-bfc4-72597b3e340a",
   "metadata": {},
   "outputs": [],
   "source": [
    "# Drop the row with value of ferritin not avialable.\n",
    "df_CBC_Umich_DPI_0_only.dropna(subset=['Ferritin'], inplace=True)\n",
    "# df_CBC_Umich_DPI_0_only"
   ]
  },
  {
   "cell_type": "code",
   "execution_count": 9,
   "id": "187309e1-ee11-427c-b85e-2f38ca5daed9",
   "metadata": {},
   "outputs": [
    {
     "data": {
      "text/plain": [
       "Index(['StudyID', 'WBC', 'NEU#', 'LYMP#', 'MON#', 'CRS_Grade', 'NT_Incidence',\n",
       "       'HGB', 'HCT', 'PLT', 'RBC', 'MCV', 'MCH', 'MCHC', 'RDW', 'MPV', 'Sex',\n",
       "       'Age', 'CRP', 'Ferritin'],\n",
       "      dtype='object')"
      ]
     },
     "execution_count": 9,
     "metadata": {},
     "output_type": "execute_result"
    }
   ],
   "source": [
    "df_CBC_Umich_DPI_0_only.columns\n",
    "# df_CBC_Umich_DPI_0_only.NT_Incidence"
   ]
  },
  {
   "cell_type": "code",
   "execution_count": null,
   "id": "c15746a5-1183-4d48-b46d-afc0ad680c3a",
   "metadata": {},
   "outputs": [],
   "source": []
  },
  {
   "cell_type": "code",
   "execution_count": 10,
   "id": "1ddfa01f-c276-4982-90f2-abc219d76dc1",
   "metadata": {},
   "outputs": [
    {
     "data": {
      "text/html": [
       "<div>\n",
       "<style scoped>\n",
       "    .dataframe tbody tr th:only-of-type {\n",
       "        vertical-align: middle;\n",
       "    }\n",
       "\n",
       "    .dataframe tbody tr th {\n",
       "        vertical-align: top;\n",
       "    }\n",
       "\n",
       "    .dataframe thead th {\n",
       "        text-align: right;\n",
       "    }\n",
       "</style>\n",
       "<table border=\"1\" class=\"dataframe\">\n",
       "  <thead>\n",
       "    <tr style=\"text-align: right;\">\n",
       "      <th></th>\n",
       "      <th>StudyID</th>\n",
       "      <th>WBC</th>\n",
       "      <th>NEU#</th>\n",
       "      <th>LYMP#</th>\n",
       "      <th>MON#</th>\n",
       "      <th>CRS_Grade</th>\n",
       "      <th>NT_Incidence</th>\n",
       "      <th>HGB</th>\n",
       "      <th>HCT</th>\n",
       "      <th>PLT</th>\n",
       "      <th>RBC</th>\n",
       "      <th>MCV</th>\n",
       "      <th>MCH</th>\n",
       "      <th>MCHC</th>\n",
       "      <th>RDW</th>\n",
       "      <th>MPV</th>\n",
       "      <th>Sex</th>\n",
       "      <th>Age</th>\n",
       "      <th>CRP</th>\n",
       "      <th>Ferritin</th>\n",
       "    </tr>\n",
       "  </thead>\n",
       "  <tbody>\n",
       "    <tr>\n",
       "      <th>6</th>\n",
       "      <td>SC04</td>\n",
       "      <td>0.40</td>\n",
       "      <td>0.00</td>\n",
       "      <td>0.0</td>\n",
       "      <td>0.0</td>\n",
       "      <td>0.0</td>\n",
       "      <td>0</td>\n",
       "      <td>7.9</td>\n",
       "      <td>23.8</td>\n",
       "      <td>67</td>\n",
       "      <td>2.60</td>\n",
       "      <td>91.5</td>\n",
       "      <td>30.4</td>\n",
       "      <td>33.2</td>\n",
       "      <td>15.3</td>\n",
       "      <td>8.4</td>\n",
       "      <td>0</td>\n",
       "      <td>53</td>\n",
       "      <td>12.5</td>\n",
       "      <td>3862.5</td>\n",
       "    </tr>\n",
       "    <tr>\n",
       "      <th>18</th>\n",
       "      <td>SC06</td>\n",
       "      <td>1.30</td>\n",
       "      <td>1.20</td>\n",
       "      <td>0.0</td>\n",
       "      <td>0.0</td>\n",
       "      <td>0.0</td>\n",
       "      <td>1</td>\n",
       "      <td>7.7</td>\n",
       "      <td>23.8</td>\n",
       "      <td>140</td>\n",
       "      <td>2.49</td>\n",
       "      <td>95.6</td>\n",
       "      <td>30.9</td>\n",
       "      <td>32.4</td>\n",
       "      <td>15.8</td>\n",
       "      <td>9.1</td>\n",
       "      <td>0</td>\n",
       "      <td>71</td>\n",
       "      <td>7.7</td>\n",
       "      <td>638.9</td>\n",
       "    </tr>\n",
       "    <tr>\n",
       "      <th>38</th>\n",
       "      <td>SC08</td>\n",
       "      <td>0.30</td>\n",
       "      <td>0.00</td>\n",
       "      <td>0.0</td>\n",
       "      <td>0.0</td>\n",
       "      <td>0.0</td>\n",
       "      <td>1</td>\n",
       "      <td>10.0</td>\n",
       "      <td>29.9</td>\n",
       "      <td>36</td>\n",
       "      <td>3.07</td>\n",
       "      <td>97.4</td>\n",
       "      <td>32.6</td>\n",
       "      <td>33.4</td>\n",
       "      <td>17.5</td>\n",
       "      <td>10.0</td>\n",
       "      <td>1</td>\n",
       "      <td>56</td>\n",
       "      <td>12.6</td>\n",
       "      <td>1935.6</td>\n",
       "    </tr>\n",
       "    <tr>\n",
       "      <th>56</th>\n",
       "      <td>SC14</td>\n",
       "      <td>1.80</td>\n",
       "      <td>1.55</td>\n",
       "      <td>0.0</td>\n",
       "      <td>0.0</td>\n",
       "      <td>0.0</td>\n",
       "      <td>0</td>\n",
       "      <td>8.8</td>\n",
       "      <td>27.4</td>\n",
       "      <td>264</td>\n",
       "      <td>3.36</td>\n",
       "      <td>81.4</td>\n",
       "      <td>26.2</td>\n",
       "      <td>32.2</td>\n",
       "      <td>15.2</td>\n",
       "      <td>8.1</td>\n",
       "      <td>0</td>\n",
       "      <td>65</td>\n",
       "      <td>10.2</td>\n",
       "      <td>1367.7</td>\n",
       "    </tr>\n",
       "    <tr>\n",
       "      <th>72</th>\n",
       "      <td>SC18</td>\n",
       "      <td>0.35</td>\n",
       "      <td>0.00</td>\n",
       "      <td>0.0</td>\n",
       "      <td>0.0</td>\n",
       "      <td>0.0</td>\n",
       "      <td>1</td>\n",
       "      <td>7.2</td>\n",
       "      <td>21.8</td>\n",
       "      <td>81</td>\n",
       "      <td>2.15</td>\n",
       "      <td>101.4</td>\n",
       "      <td>33.6</td>\n",
       "      <td>33.1</td>\n",
       "      <td>14.8</td>\n",
       "      <td>9.5</td>\n",
       "      <td>0</td>\n",
       "      <td>71</td>\n",
       "      <td>6.1</td>\n",
       "      <td>5140.2</td>\n",
       "    </tr>\n",
       "    <tr>\n",
       "      <th>...</th>\n",
       "      <td>...</td>\n",
       "      <td>...</td>\n",
       "      <td>...</td>\n",
       "      <td>...</td>\n",
       "      <td>...</td>\n",
       "      <td>...</td>\n",
       "      <td>...</td>\n",
       "      <td>...</td>\n",
       "      <td>...</td>\n",
       "      <td>...</td>\n",
       "      <td>...</td>\n",
       "      <td>...</td>\n",
       "      <td>...</td>\n",
       "      <td>...</td>\n",
       "      <td>...</td>\n",
       "      <td>...</td>\n",
       "      <td>...</td>\n",
       "      <td>...</td>\n",
       "      <td>...</td>\n",
       "      <td>...</td>\n",
       "    </tr>\n",
       "    <tr>\n",
       "      <th>1086</th>\n",
       "      <td>LTFU39</td>\n",
       "      <td>1.40</td>\n",
       "      <td>1.20</td>\n",
       "      <td>0.0</td>\n",
       "      <td>0.0</td>\n",
       "      <td>0.0</td>\n",
       "      <td>0</td>\n",
       "      <td>10.0</td>\n",
       "      <td>29.0</td>\n",
       "      <td>105</td>\n",
       "      <td>3.13</td>\n",
       "      <td>92.7</td>\n",
       "      <td>31.9</td>\n",
       "      <td>34.5</td>\n",
       "      <td>11.9</td>\n",
       "      <td>10.1</td>\n",
       "      <td>0</td>\n",
       "      <td>61</td>\n",
       "      <td>3.7</td>\n",
       "      <td>1004.1</td>\n",
       "    </tr>\n",
       "    <tr>\n",
       "      <th>1101</th>\n",
       "      <td>LTFU40</td>\n",
       "      <td>1.40</td>\n",
       "      <td>1.20</td>\n",
       "      <td>0.1</td>\n",
       "      <td>0.1</td>\n",
       "      <td>0.0</td>\n",
       "      <td>0</td>\n",
       "      <td>10.8</td>\n",
       "      <td>34.4</td>\n",
       "      <td>112</td>\n",
       "      <td>4.36</td>\n",
       "      <td>78.9</td>\n",
       "      <td>24.8</td>\n",
       "      <td>31.4</td>\n",
       "      <td>15.0</td>\n",
       "      <td>11.0</td>\n",
       "      <td>0</td>\n",
       "      <td>62</td>\n",
       "      <td>0.0</td>\n",
       "      <td>56.3</td>\n",
       "    </tr>\n",
       "    <tr>\n",
       "      <th>1116</th>\n",
       "      <td>LTFU41</td>\n",
       "      <td>1.20</td>\n",
       "      <td>0.40</td>\n",
       "      <td>0.7</td>\n",
       "      <td>0.1</td>\n",
       "      <td>2.0</td>\n",
       "      <td>1</td>\n",
       "      <td>6.3</td>\n",
       "      <td>19.2</td>\n",
       "      <td>43</td>\n",
       "      <td>2.05</td>\n",
       "      <td>93.7</td>\n",
       "      <td>30.7</td>\n",
       "      <td>32.8</td>\n",
       "      <td>21.6</td>\n",
       "      <td>11.7</td>\n",
       "      <td>1</td>\n",
       "      <td>58</td>\n",
       "      <td>11.7</td>\n",
       "      <td>920.2</td>\n",
       "    </tr>\n",
       "    <tr>\n",
       "      <th>1142</th>\n",
       "      <td>LTFU42</td>\n",
       "      <td>3.30</td>\n",
       "      <td>0.00</td>\n",
       "      <td>0.1</td>\n",
       "      <td>0.0</td>\n",
       "      <td>0.0</td>\n",
       "      <td>0</td>\n",
       "      <td>11.2</td>\n",
       "      <td>33.3</td>\n",
       "      <td>132</td>\n",
       "      <td>3.88</td>\n",
       "      <td>85.8</td>\n",
       "      <td>28.9</td>\n",
       "      <td>33.6</td>\n",
       "      <td>15.2</td>\n",
       "      <td>9.4</td>\n",
       "      <td>0</td>\n",
       "      <td>72</td>\n",
       "      <td>3.3</td>\n",
       "      <td>768.3</td>\n",
       "    </tr>\n",
       "    <tr>\n",
       "      <th>1156</th>\n",
       "      <td>LTFU43</td>\n",
       "      <td>1.70</td>\n",
       "      <td>1.70</td>\n",
       "      <td>0.0</td>\n",
       "      <td>0.0</td>\n",
       "      <td>0.0</td>\n",
       "      <td>1</td>\n",
       "      <td>6.9</td>\n",
       "      <td>21.2</td>\n",
       "      <td>315</td>\n",
       "      <td>2.29</td>\n",
       "      <td>92.6</td>\n",
       "      <td>30.1</td>\n",
       "      <td>32.5</td>\n",
       "      <td>13.2</td>\n",
       "      <td>9.7</td>\n",
       "      <td>1</td>\n",
       "      <td>63</td>\n",
       "      <td>1.0</td>\n",
       "      <td>1062.0</td>\n",
       "    </tr>\n",
       "  </tbody>\n",
       "</table>\n",
       "<p>75 rows × 20 columns</p>\n",
       "</div>"
      ],
      "text/plain": [
       "     StudyID   WBC  NEU#  LYMP#  MON#  CRS_Grade  NT_Incidence   HGB   HCT  \\\n",
       "6       SC04  0.40  0.00    0.0   0.0        0.0             0   7.9  23.8   \n",
       "18      SC06  1.30  1.20    0.0   0.0        0.0             1   7.7  23.8   \n",
       "38      SC08  0.30  0.00    0.0   0.0        0.0             1  10.0  29.9   \n",
       "56      SC14  1.80  1.55    0.0   0.0        0.0             0   8.8  27.4   \n",
       "72      SC18  0.35  0.00    0.0   0.0        0.0             1   7.2  21.8   \n",
       "...      ...   ...   ...    ...   ...        ...           ...   ...   ...   \n",
       "1086  LTFU39  1.40  1.20    0.0   0.0        0.0             0  10.0  29.0   \n",
       "1101  LTFU40  1.40  1.20    0.1   0.1        0.0             0  10.8  34.4   \n",
       "1116  LTFU41  1.20  0.40    0.7   0.1        2.0             1   6.3  19.2   \n",
       "1142  LTFU42  3.30  0.00    0.1   0.0        0.0             0  11.2  33.3   \n",
       "1156  LTFU43  1.70  1.70    0.0   0.0        0.0             1   6.9  21.2   \n",
       "\n",
       "      PLT   RBC    MCV   MCH  MCHC   RDW   MPV  Sex  Age   CRP  Ferritin  \n",
       "6      67  2.60   91.5  30.4  33.2  15.3   8.4    0   53  12.5    3862.5  \n",
       "18    140  2.49   95.6  30.9  32.4  15.8   9.1    0   71   7.7     638.9  \n",
       "38     36  3.07   97.4  32.6  33.4  17.5  10.0    1   56  12.6    1935.6  \n",
       "56    264  3.36   81.4  26.2  32.2  15.2   8.1    0   65  10.2    1367.7  \n",
       "72     81  2.15  101.4  33.6  33.1  14.8   9.5    0   71   6.1    5140.2  \n",
       "...   ...   ...    ...   ...   ...   ...   ...  ...  ...   ...       ...  \n",
       "1086  105  3.13   92.7  31.9  34.5  11.9  10.1    0   61   3.7    1004.1  \n",
       "1101  112  4.36   78.9  24.8  31.4  15.0  11.0    0   62   0.0      56.3  \n",
       "1116   43  2.05   93.7  30.7  32.8  21.6  11.7    1   58  11.7     920.2  \n",
       "1142  132  3.88   85.8  28.9  33.6  15.2   9.4    0   72   3.3     768.3  \n",
       "1156  315  2.29   92.6  30.1  32.5  13.2   9.7    1   63   1.0    1062.0  \n",
       "\n",
       "[75 rows x 20 columns]"
      ]
     },
     "execution_count": 10,
     "metadata": {},
     "output_type": "execute_result"
    }
   ],
   "source": [
    "df_CBC_Umich_DPI_0_only # The data set from UM from day 0. "
   ]
  },
  {
   "cell_type": "markdown",
   "id": "9146a3fa-2918-4078-a045-0c0dc41562d8",
   "metadata": {},
   "source": [
    "RFE has two stage algorithms. In the internal stage the model will be used on training dataset from UM, as well as cross validation from UM. "
   ]
  },
  {
   "cell_type": "code",
   "execution_count": 11,
   "id": "7386f44a-8210-415d-a023-d1cb8f6c5dec",
   "metadata": {},
   "outputs": [
    {
     "name": "stdout",
     "output_type": "stream",
     "text": [
      "X is [[4.0000e-01 0.0000e+00 0.0000e+00 ... 5.3000e+01 1.2500e+01 3.8625e+03]\n",
      " [1.3000e+00 1.2000e+00 0.0000e+00 ... 7.1000e+01 7.7000e+00 6.3890e+02]\n",
      " [3.0000e-01 0.0000e+00 0.0000e+00 ... 5.6000e+01 1.2600e+01 1.9356e+03]\n",
      " ...\n",
      " [1.2000e+00 4.0000e-01 7.0000e-01 ... 5.8000e+01 1.1700e+01 9.2020e+02]\n",
      " [3.3000e+00 0.0000e+00 1.0000e-01 ... 7.2000e+01 3.3000e+00 7.6830e+02]\n",
      " [1.7000e+00 1.7000e+00 0.0000e+00 ... 6.3000e+01 1.0000e+00 1.0620e+03]] \n",
      "\n",
      "y is [0 1 1 0 1 1 1 0 0 0 0 0 0 0 0 1 1 1 0 0 1 1 0 0 0 1 1 1 0 0 0 1 0 1 0 1 1\n",
      " 0 0 1 1 0 1 0 0 0 1 1 0 0 0 0 0 1 0 0 1 1 1 1 1 0 1 0 0 1 1 1 0 0 0 0 1 0\n",
      " 1] \n",
      "\n"
     ]
    }
   ],
   "source": [
    "features_list = ['WBC', 'NEU#', 'LYMP#', 'MON#','CRS_Grade', 'HGB', 'HCT',\n",
    "       'PLT', 'RBC', 'MCV', 'MCH', 'MCHC', 'RDW', 'MPV', 'Sex', 'Age', 'CRP',\n",
    "       'Ferritin']\n",
    "\n",
    "X, y = df_CBC_Umich_DPI_0_only.loc[:, features_list].values, df_CBC_Umich_DPI_0_only.loc[:,['NT_Incidence']].values\n",
    "print(\"X is %s \\n\" %X)\n",
    "\n",
    "y = y.flatten()\n",
    "print(\"y is %s \\n\" %y)"
   ]
  },
  {
   "cell_type": "code",
   "execution_count": 12,
   "id": "49df06ed-024f-49c0-b77d-bb0a812284e9",
   "metadata": {},
   "outputs": [],
   "source": [
    "from sklearn.model_selection import train_test_split\n",
    "X_train, X_CV, y_train, y_CV =\\\n",
    "    train_test_split(X, y, \n",
    "                     test_size=0.3, \n",
    "                     random_state=0, \n",
    "                     stratify=y)"
   ]
  },
  {
   "cell_type": "code",
   "execution_count": null,
   "id": "d2b6076e-0181-4e90-9738-ec1a97eb5698",
   "metadata": {},
   "outputs": [],
   "source": []
  },
  {
   "cell_type": "code",
   "execution_count": 13,
   "id": "ab20eee9-4f6d-40c8-ad91-cebf1be4ef75",
   "metadata": {},
   "outputs": [],
   "source": [
    "from sklearn.preprocessing import StandardScaler\n",
    "\n",
    "\n",
    "sc = StandardScaler()\n",
    "X_train_std = sc.fit_transform(X_train)\n",
    "X_CV_std = sc.transform(X_CV)"
   ]
  },
  {
   "cell_type": "markdown",
   "id": "709bbda6-5f79-45af-a283-4d3ac3df37d1",
   "metadata": {},
   "source": [
    "## Implementing Recursive Feature Selection"
   ]
  },
  {
   "cell_type": "code",
   "execution_count": 14,
   "id": "f211ef93-fe17-4c08-90e3-1e8d8c3d66f2",
   "metadata": {},
   "outputs": [],
   "source": [
    "from sklearn.linear_model import LogisticRegression\n",
    "from sklearn.feature_selection import RFE\n",
    "\n",
    "\n",
    "\n",
    "lr = LogisticRegression(solver='liblinear', random_state=123)\n",
    "\n",
    "rfe = RFE(estimator=lr, n_features_to_select=12, step=1)          # No of features to be selected here have nothing to do with number of principal components selected for other models. \n",
    "rfe.fit(X_train_std, y_train)\n",
    "\n",
    "X_train_sub = rfe.transform(X_train_std)"
   ]
  },
  {
   "cell_type": "markdown",
   "id": "fb15a10d-ce32-49bb-9e77-9c04d5c21644",
   "metadata": {},
   "source": [
    "## Selected Features"
   ]
  },
  {
   "cell_type": "code",
   "execution_count": 15,
   "id": "780f81ae-e9f8-4050-a2b3-0229d3bee58f",
   "metadata": {},
   "outputs": [
    {
     "data": {
      "text/plain": [
       "array([False,  True,  True,  True, False,  True, False,  True,  True,\n",
       "       False,  True, False,  True,  True,  True,  True, False,  True])"
      ]
     },
     "execution_count": 15,
     "metadata": {},
     "output_type": "execute_result"
    }
   ],
   "source": [
    "rfe.support_\n"
   ]
  },
  {
   "cell_type": "markdown",
   "id": "7891167f-faba-46f3-a88d-3fa9e5e0f0d6",
   "metadata": {},
   "source": [
    "Selected features are: "
   ]
  },
  {
   "cell_type": "code",
   "execution_count": 16,
   "id": "756636d2-67ff-40b5-9f38-9e59fde09344",
   "metadata": {},
   "outputs": [
    {
     "data": {
      "text/plain": [
       "Index(['NEU#', 'LYMP#', 'MON#', 'HGB', 'PLT', 'RBC', 'MCH', 'RDW', 'MPV',\n",
       "       'Sex', 'Age', 'Ferritin'],\n",
       "      dtype='object')"
      ]
     },
     "execution_count": 16,
     "metadata": {},
     "output_type": "execute_result"
    }
   ],
   "source": [
    "df_CBC_Umich_DPI_0_only.loc[:, features_list].columns[0 :][rfe.support_]"
   ]
  },
  {
   "cell_type": "markdown",
   "id": "f9a66595-dc4f-446b-bdac-f315362e91c9",
   "metadata": {},
   "source": [
    "# RFE as a part of the pipeline. We will use the cross validation set from University of Michigan for this part of the pipeline."
   ]
  },
  {
   "cell_type": "code",
   "execution_count": 17,
   "id": "c2f929da-1a6d-468a-91ef-d8ac83402cdd",
   "metadata": {},
   "outputs": [
    {
     "name": "stdout",
     "output_type": "stream",
     "text": [
      "Best params: {'kneighborsclassifier__n_neighbors': 14, 'rfe__n_features_to_select': 9}\n",
      "Best accuracy: 0.78\n"
     ]
    }
   ],
   "source": [
    "from sklearn.model_selection import GridSearchCV\n",
    "from sklearn.neighbors import KNeighborsClassifier\n",
    "from sklearn.pipeline import make_pipeline\n",
    "\n",
    "\n",
    "pipe = make_pipeline(RFE(estimator=lr, step=1),\n",
    "                     KNeighborsClassifier())\n",
    "\n",
    "\n",
    "parameters = {'rfe__n_features_to_select': range(1, len(features_list)), \n",
    "              'kneighborsclassifier__n_neighbors': range(1, 15) }\n",
    "\n",
    "grid = GridSearchCV(pipe, param_grid=parameters, cv=10, n_jobs=-1)\n",
    "grid.fit(X_train_std, y_train)\n",
    "\n",
    "print('Best params:', grid.best_params_)\n",
    "print('Best accuracy:', grid.best_score_)\n",
    "\n",
    "\n"
   ]
  },
  {
   "cell_type": "code",
   "execution_count": 18,
   "id": "cdf88efa-8e78-42ec-909d-2913343cd9ca",
   "metadata": {},
   "outputs": [
    {
     "data": {
      "text/plain": [
       "array([False,  True,  True,  True, False,  True, False,  True,  True,\n",
       "       False,  True, False,  True,  True,  True,  True, False,  True])"
      ]
     },
     "execution_count": 18,
     "metadata": {},
     "output_type": "execute_result"
    }
   ],
   "source": [
    "rfe.get_support()"
   ]
  },
  {
   "cell_type": "code",
   "execution_count": 19,
   "id": "3b2f05fd-230d-47e9-80e1-af97a2c10e22",
   "metadata": {},
   "outputs": [
    {
     "data": {
      "text/plain": [
       "['WBC',\n",
       " 'NEU#',\n",
       " 'LYMP#',\n",
       " 'MON#',\n",
       " 'CRS_Grade',\n",
       " 'HGB',\n",
       " 'HCT',\n",
       " 'PLT',\n",
       " 'RBC',\n",
       " 'MCV',\n",
       " 'MCH',\n",
       " 'MCHC',\n",
       " 'RDW',\n",
       " 'MPV',\n",
       " 'Sex',\n",
       " 'Age',\n",
       " 'CRP',\n",
       " 'Ferritin']"
      ]
     },
     "execution_count": 19,
     "metadata": {},
     "output_type": "execute_result"
    }
   ],
   "source": [
    "features_list"
   ]
  },
  {
   "cell_type": "markdown",
   "id": "573a78bd-ce0c-4367-ba2c-92f9dca54e40",
   "metadata": {},
   "source": []
  },
  {
   "cell_type": "code",
   "execution_count": 20,
   "id": "637d3904-dc26-4a34-9c02-260b4dcda6d7",
   "metadata": {},
   "outputs": [
    {
     "data": {
      "text/plain": [
       "0.6956521739130435"
      ]
     },
     "execution_count": 20,
     "metadata": {},
     "output_type": "execute_result"
    }
   ],
   "source": [
    "# Reduced feature set from grid search\n",
    "\n",
    "grid.best_estimator_.score(X_CV_std, y_CV)"
   ]
  },
  {
   "cell_type": "code",
   "execution_count": 21,
   "id": "190a61db-d854-4e63-b3c9-fb289a9ba2f4",
   "metadata": {},
   "outputs": [
    {
     "data": {
      "text/plain": [
       "0.6956521739130435"
      ]
     },
     "execution_count": 21,
     "metadata": {},
     "output_type": "execute_result"
    }
   ],
   "source": [
    "# Full feature set for reference\n",
    "\n",
    "knn = KNeighborsClassifier(n_neighbors=9)\n",
    "knn.fit(X_train_std, y_train)\n",
    "knn.score(X_CV_std, y_CV)"
   ]
  },
  {
   "cell_type": "code",
   "execution_count": 22,
   "id": "ea864a36-1ca5-4fe1-a43c-8a5c03816c62",
   "metadata": {},
   "outputs": [],
   "source": [
    "# Project the dataset from John Hopkins on test set, and see the value. "
   ]
  },
  {
   "cell_type": "markdown",
   "id": "03b3626e-02ba-4d70-b072-01a0ae90e2ff",
   "metadata": {},
   "source": [
    "# We will do testing on data set from John Hopkins."
   ]
  },
  {
   "cell_type": "code",
   "execution_count": 23,
   "id": "ef3e0011-0e7b-4ab9-8d8d-a4f60848c3c9",
   "metadata": {},
   "outputs": [],
   "source": [
    "df_CBC_JH = pd.read_csv(r'C:\\Users\\rajnishk\\Dropbox (University of Michigan)\\2023-09-25 CBC CART for Benjie and Rajnish from Mary\\JHMI Compiled CBC, No ALL, CRP_LOD_0.csv')\n",
    "# df_CBC_JH"
   ]
  },
  {
   "cell_type": "code",
   "execution_count": 24,
   "id": "79487723-da1a-48e2-9ced-fe98973c51b3",
   "metadata": {},
   "outputs": [],
   "source": [
    "df_CBC_JH[\"Ferritin\"] = df_CBC_JH[\"Ferritin\"].str.replace(',','').astype(float)"
   ]
  },
  {
   "cell_type": "code",
   "execution_count": 25,
   "id": "ffed47c1-d84a-403b-9dee-70156f2e9ed6",
   "metadata": {},
   "outputs": [
    {
     "name": "stderr",
     "output_type": "stream",
     "text": [
      "C:\\Users\\rajnishk\\AppData\\Local\\Temp\\ipykernel_25224\\1919243693.py:6: FutureWarning: Downcasting behavior in `replace` is deprecated and will be removed in a future version. To retain the old behavior, explicitly call `result.infer_objects(copy=False)`. To opt-in to the future behavior, set `pd.set_option('future.no_silent_downcasting', True)`\n",
      "  df_CBC_JH['Sex'] = df_CBC_JH['Sex'].replace(sex_mapping)\n"
     ]
    }
   ],
   "source": [
    "df_CBC_JH[\"NT_Incidence\"] = df_CBC_JH[\"NT_Incidence\"].astype(int)\n",
    "\n",
    "# Map 'Male' to 0 and 'Female' to 1\n",
    "sex_mapping = {'Male': 0, 'Female': 1}\n",
    "\n",
    "df_CBC_JH['Sex'] = df_CBC_JH['Sex'].replace(sex_mapping)"
   ]
  },
  {
   "cell_type": "code",
   "execution_count": 26,
   "id": "21c21b59-afb4-449f-b9f7-ab1730bfed5d",
   "metadata": {},
   "outputs": [],
   "source": [
    "df_CBC_JH_DPI_0 = df_CBC_JH[df_CBC_JH.DPI == 0]\n",
    "columns_list  = features_list + ['NT_Incidence']\n",
    "df_CBC_JH_DPI_0 = df_CBC_JH_DPI_0[columns_list]\n",
    "# df_CBC_JH_DPI_0\n",
    "df_CBC_JH_DPI_0.dropna(inplace=True)"
   ]
  },
  {
   "cell_type": "code",
   "execution_count": 27,
   "id": "0c4dc214-31d8-4347-8229-9e9840b7acef",
   "metadata": {},
   "outputs": [],
   "source": [
    "X_test_JH, y_test_JH = df_CBC_JH_DPI_0.loc[:, features_list].values, df_CBC_JH_DPI_0.loc[:,['NT_Incidence']].values\n",
    "# print(\"X_test_JH is %s \\n\" %X_test_JH)\n",
    "\n",
    "y_test_JH = y_test_JH.flatten()\n",
    "# print(\"y_test_JH is %s \\n\" %y_test_JH)"
   ]
  },
  {
   "cell_type": "code",
   "execution_count": 28,
   "id": "c05836ec-84ad-44f6-bfb6-a1fc2c0a9465",
   "metadata": {},
   "outputs": [],
   "source": [
    "X_test_JH_std = sc.fit_transform(X_test_JH)\n"
   ]
  },
  {
   "cell_type": "code",
   "execution_count": 29,
   "id": "403694b2-9344-4858-853c-e5b2aac66d43",
   "metadata": {},
   "outputs": [
    {
     "data": {
      "text/plain": [
       "0.6551724137931034"
      ]
     },
     "execution_count": 29,
     "metadata": {},
     "output_type": "execute_result"
    }
   ],
   "source": [
    "grid.best_estimator_.score(X_test_JH_std, y_test_JH)"
   ]
  },
  {
   "cell_type": "code",
   "execution_count": 30,
   "id": "1a640c97-a8b0-436c-bf3c-43d8e0f27384",
   "metadata": {},
   "outputs": [
    {
     "data": {
      "text/plain": [
       "False"
      ]
     },
     "execution_count": 30,
     "metadata": {},
     "output_type": "execute_result"
    }
   ],
   "source": [
    "grid.best_estimator_.verbose"
   ]
  },
  {
   "cell_type": "code",
   "execution_count": 31,
   "id": "db0c2b3d-eb34-48d8-8979-0e43fbc22817",
   "metadata": {},
   "outputs": [
    {
     "data": {
      "text/plain": [
       "10"
      ]
     },
     "execution_count": 31,
     "metadata": {},
     "output_type": "execute_result"
    }
   ],
   "source": [
    "grid.n_splits_"
   ]
  },
  {
   "cell_type": "code",
   "execution_count": 32,
   "id": "7e2c3d4f-bbc0-4fe0-88f0-1a956ef82966",
   "metadata": {},
   "outputs": [
    {
     "data": {
      "text/plain": [
       "(29, 18)"
      ]
     },
     "execution_count": 32,
     "metadata": {},
     "output_type": "execute_result"
    }
   ],
   "source": [
    "np.shape(X_test_JH)"
   ]
  },
  {
   "cell_type": "code",
   "execution_count": 33,
   "id": "89fd4196-315e-4f00-a0af-8a6fc6ef1312",
   "metadata": {},
   "outputs": [],
   "source": [
    "# for i in range(X.shape[1]):\n",
    "#  print('Column: %d, Selected %s, Rank: %.3f' % (i, rfe.support_[i], rfe.ranking_[i]))"
   ]
  },
  {
   "cell_type": "code",
   "execution_count": null,
   "id": "123d2b7c-d4e3-4f4f-abc1-cab205ccf6c6",
   "metadata": {},
   "outputs": [],
   "source": []
  }
 ],
 "metadata": {
  "kernelspec": {
   "display_name": "Python 3 (ipykernel)",
   "language": "python",
   "name": "python3"
  },
  "language_info": {
   "codemirror_mode": {
    "name": "ipython",
    "version": 3
   },
   "file_extension": ".py",
   "mimetype": "text/x-python",
   "name": "python",
   "nbconvert_exporter": "python",
   "pygments_lexer": "ipython3",
   "version": "3.11.7"
  }
 },
 "nbformat": 4,
 "nbformat_minor": 5
}
